{
 "cells": [
  {
   "cell_type": "markdown",
   "metadata": {},
   "source": [
    "#### Conclusiones:\n",
    "* La corrección de los valores nulos en la columna 'Age' por el método KNN no modifica prácticamente la mediana de dicha variable.\n",
    "* La mayoría de los pasajeros provenían del puerto de Southampton, que era la primera parada.\n",
    "* A pesar de que la mayoría de los pasajeros eran del género masculino, eran los que menos probabilidades tenían de sobrevivir al naufragio.\n",
    "* De manera similar, aunque los pasajeros de la tercera clase eran la mayoría tenían menor tasa de supervivencia. Es probable que por la ubicación de sus camarotes en el barco. Las cabinas de primera clase se hallaban más cerca de los botes salvavidas.\n",
    "* El rango de edad con mayor probabilidad de supervivencia eran los niños menores de 15 años, ya que eran los más propensos a ser rescatados por los botes salvavidas. Mientras que los adultos entre 61 - 80 eran los que tenían menos probabilidad de obtener un sitio en los botes salvavidas.\n",
    "\n",
    "##### El perfil general de los supervivientes/fallecidos era el siguiente:\n",
    "\n",
    "<table>\n",
    "  <tr>\n",
    "    <th>Características</th>\n",
    "    <th>Fallecidos</th>\n",
    "    <th>Supervivientes</th>\n",
    "  </tr>\n",
    "  <tr>\n",
    "    <td>Género</td>\n",
    "    <td>Masculino</td>\n",
    "    <td>Femenino</td>\n",
    "  </tr>\n",
    "  <tr>\n",
    "    <td>Rango de edad</td>\n",
    "    <td>61 - 80</td>\n",
    "    <td>0 -15</td>\n",
    "  </tr>\n",
    "  <tr>\n",
    "    <td>Clase</td>\n",
    "    <td>Tercera</td>\n",
    "    <td>Primera</td>\n",
    "  </tr>\n",
    "  </table>\n",
    "\n",
    "\n"
   ]
  }
 ],
 "metadata": {
  "kernelspec": {
   "display_name": "Python 3",
   "language": "python",
   "name": "python3"
  },
  "language_info": {
   "name": "python",
   "version": "3.10.11"
  }
 },
 "nbformat": 4,
 "nbformat_minor": 2
}
