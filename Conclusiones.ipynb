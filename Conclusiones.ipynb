{
 "cells": [
  {
   "cell_type": "markdown",
   "metadata": {},
   "source": [
    "#### Conclusiones:\n",
    "* La corrección de los valores nulos en la columna 'Age' por el método KNN no modifica prácticamente la mediana de dicha variable.\n",
    "* La mayoría de los pasajeros provenían del puerto S, que era la primera parada.\n",
    "* Aunque un 64.8% de los pasajeros son del género masculino, representan 31.9% de los supervivientes.\n",
    "* De manera similar, aunque los pasajeros de la tercera clase son 55.1% del total, representan sólo un 34.8% de los supervivientes.\n",
    "* El perfil general de los supervivientes/fallecidos era el siguiente:\n",
    "\n",
    "<table>\n",
    "  <tr>\n",
    "    <th>Características</th>\n",
    "    <th>Fallecidos</th>\n",
    "    <th>Supervivientes</th>\n",
    "  </tr>\n",
    "  <tr>\n",
    "    <td>Género</td>\n",
    "    <td>Masculino.</td>\n",
    "    <td>Femenino.</td>\n",
    "  </tr>\n",
    "  <tr>\n",
    "    <td>Edad media</td>\n",
    "    <td>31</td>\n",
    "    <td>28</td>\n",
    "  </tr>\n",
    "  <tr>\n",
    "    <td>Clase</td>\n",
    "    <td> Tercera </td>\n",
    "    <td>Primera.</td>\n",
    "  </tr>\n",
    "  </table>\n",
    "\n",
    "\n"
   ]
  }
 ],
 "metadata": {
  "kernelspec": {
   "display_name": "Python 3",
   "language": "python",
   "name": "python3"
  },
  "language_info": {
   "name": "python",
   "version": "3.10.11"
  }
 },
 "nbformat": 4,
 "nbformat_minor": 2
}
